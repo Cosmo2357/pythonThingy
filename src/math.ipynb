{
 "cells": [
  {
   "cell_type": "markdown",
   "metadata": {},
   "source": [
    "### 二項分布の確率質量関数\n",
    "\n",
    "1. **一般的な形式**:\n",
    "   $$\n",
    "   C(n, k) \\times p^k \\times q^{(n-k)}\n",
    "   $$\n",
    "   - ここで、\\( p \\) は成功の確率、\\( q \\) は失敗の確率（\\( q = 1 - p \\)）を意味します。\n",
    "   - この形式は、成功と失敗の確率を明確に区別したい場合に使われます。\n",
    "\n",
    "2. **補完的な形式**:\n",
    "   $$\n",
    "   P(X = k) = C(n, k) \\times p^k \\times (1-p)^{n-k}\n",
    "   $$\n",
    "   - この表現では、失敗の確率が \\( 1-p \\) として直接示されています。\n",
    "   - 成功の確率と失敗の確率が補完的な関係にある（合計して1になる）ことを反映しています。\n"
   ]
  },
  {
   "cell_type": "markdown",
   "metadata": {},
   "source": [
    "**The Cauchy-Schwarz Inequality**\n",
    "$$\\left( \\sum_{k=1}^n a_k b_k \\right)^2 \\leq \\left( \\sum_{k=1}^n a_k^2 \\right) \\left( \\sum_{k=1}^n b_k^2 \\right)$$"
   ]
  },
  {
   "cell_type": "code",
   "execution_count": null,
   "metadata": {},
   "outputs": [],
   "source": []
  }
 ],
 "metadata": {
  "language_info": {
   "name": "python"
  }
 },
 "nbformat": 4,
 "nbformat_minor": 2
}
